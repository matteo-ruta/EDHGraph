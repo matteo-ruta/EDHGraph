{
 "cells": [
  {
   "cell_type": "markdown",
   "id": "5ad6f511-db36-403f-ac2e-9343b68fa221",
   "metadata": {},
   "source": [
    "## Import necessary libraries"
   ]
  },
  {
   "cell_type": "code",
   "execution_count": 13,
   "id": "af320372-fd59-4fa7-a1bf-5b588f4114d1",
   "metadata": {},
   "outputs": [],
   "source": [
    "import pandas as pd\n",
    "import numpy as np\n",
    "from graph_tool.all import *"
   ]
  },
  {
   "cell_type": "code",
   "execution_count": 18,
   "id": "2d706020-c6e5-441b-91c6-ad242afd0dfb",
   "metadata": {},
   "outputs": [],
   "source": [
    "from sklearn.cluster import KMeans\n",
    "import matplotlib.pyplot as plt\n",
    "import random"
   ]
  },
  {
   "cell_type": "markdown",
   "id": "78aa5a8c-4f4f-4fd5-8404-56e68c518153",
   "metadata": {},
   "source": [
    "## Optional: set number of threads"
   ]
  },
  {
   "cell_type": "code",
   "execution_count": 2,
   "id": "618a380b-b6f1-4c53-9bff-f2139e0f603c",
   "metadata": {},
   "outputs": [
    {
     "data": {
      "text/plain": [
       "6"
      ]
     },
     "execution_count": 2,
     "metadata": {},
     "output_type": "execute_result"
    }
   ],
   "source": [
    "openmp_set_num_threads(6)\n",
    "openmp_get_num_threads()"
   ]
  },
  {
   "cell_type": "markdown",
   "id": "e976fc3f-55ca-455d-be8c-943faf32a6ef",
   "metadata": {},
   "source": [
    "## Create graph from txt files"
   ]
  },
  {
   "cell_type": "code",
   "execution_count": null,
   "id": "e91fd393-558d-4316-b378-305f496306cb",
   "metadata": {},
   "outputs": [],
   "source": [
    "nodes = {}\n",
    "outliers = [\"Forest\\n\", \"Plains\\n\", \"Island\\n\", \"Mountain\\n\", \"Swamp\\n\"]\n",
    "current_deck = np.full(shape = 110, fill_value = -1)\n",
    "g = Graph(directed = False)\n",
    "eweight = g.new_ep(\"int32_t\")\n",
    "vcount  = g.new_vp(\"int32_t\")\n",
    "vname   = g.new_vp(\"string\")\n",
    "\n",
    "for i in range(100):\n",
    "    file = str(i) + \".txt\"\n",
    "    print(\"Reading file \" + file)\n",
    "    graphfile = open(file)\n",
    "    count = 0\n",
    "    for line in graphfile:\n",
    "        if line != \"\\n\":\n",
    "            if line in outliers:\n",
    "                continue\n",
    "            if line not in nodes:\n",
    "                v = g.add_vertex()\n",
    "                vcount[v] = 1\n",
    "                vname[v]  = line.rstrip()\n",
    "                nodes[line] = g.vertex_index[v]\n",
    "            else:\n",
    "                vcount[g.vertex(nodes[line])] = vcount[g.vertex(nodes[line])] + 1\n",
    "            current_deck[count] = nodes[line]\n",
    "            count = count + 1\n",
    "        else:\n",
    "            j = 0\n",
    "            while current_deck[j] != -1:\n",
    "                k = j + 1\n",
    "                while current_deck[k] != -1:\n",
    "                    e = g.edge(g.vertex(current_deck[j]), g.vertex(current_deck[k]))\n",
    "                    if (e == None):\n",
    "                        e = g.add_edge(g.vertex(current_deck[j]), g.vertex(current_deck[k]))\n",
    "                        eweight[e] = 1\n",
    "                    else:\n",
    "                        eweight[e] = eweight[e] + 1\n",
    "                    k = k + 1\n",
    "                j = j + 1\n",
    "            # Reset current deck and count\n",
    "            current_deck = np.full(shape = 110, fill_value = -1)\n",
    "            count = 0\n",
    "    j = 0\n",
    "    while current_deck[j] != -1:\n",
    "        k = j + 1\n",
    "        while current_deck[k] != -1:\n",
    "            e = g.edge(g.vertex(current_deck[j]), g.vertex(current_deck[k]))\n",
    "            if (e == None):\n",
    "                e = g.add_edge(g.vertex(current_deck[j]), g.vertex(current_deck[k]))\n",
    "                eweight[e] = 1\n",
    "            else:\n",
    "                eweight[e] = eweight[e] + 1\n",
    "            k = k + 1\n",
    "        j = j + 1\n",
    "    # Reset current deck and count\n",
    "    current_deck = np.full(shape = 110, fill_value = -1)\n",
    "    #print(nodes)\n",
    "    #print(current_deck)\n",
    "    graphfile.close()"
   ]
  },
  {
   "cell_type": "markdown",
   "id": "0d9b7b26-36c4-4cce-9008-afb80c38f114",
   "metadata": {},
   "source": [
    "## Save properties inside the graph object"
   ]
  },
  {
   "cell_type": "code",
   "execution_count": 55,
   "id": "67ad1608-55cb-493a-b7bb-c06181acc17a",
   "metadata": {},
   "outputs": [],
   "source": [
    "g.vp[\"vName\"]   = vname\n",
    "g.vp[\"vCount\"]  = vcount\n",
    "g.ep[\"eWeight\"] = eweight.copy(value_type=\"double\")"
   ]
  },
  {
   "cell_type": "markdown",
   "id": "366465aa-ec59-4e46-9303-668486b36574",
   "metadata": {},
   "source": [
    "## Normalize data according to M"
   ]
  },
  {
   "cell_type": "code",
   "execution_count": 93,
   "id": "ef50fb3c-44ec-4abb-987e-caad0e703eec",
   "metadata": {},
   "outputs": [],
   "source": [
    "maxWeight = np.max(g.ep[\"eWeight\"].a)\n",
    "eWeightMNorm = g.ep[\"eWeight\"].copy(value_type=\"double\").t(lambda x: maxWeight + 1 - x)\n",
    "g.ep[\"eWeightMNorm\"] = eWeightMNorm"
   ]
  },
  {
   "cell_type": "markdown",
   "id": "f6e7b391-ab3a-4c24-b343-083dc0aeec41",
   "metadata": {},
   "source": [
    "## Normalize weights by inversion"
   ]
  },
  {
   "cell_type": "code",
   "execution_count": 94,
   "id": "e040a1e6-7ae7-4fd6-8802-dd15ae6c7f28",
   "metadata": {},
   "outputs": [],
   "source": [
    "eWeightInvNorm = g.ep[\"eWeight\"].copy(value_type=\"double\").t(lambda x: 1.0 / x)\n",
    "g.ep[\"eWeightInvNorm\"] = eWeightInvNorm"
   ]
  },
  {
   "cell_type": "markdown",
   "id": "8a0f7ac1-163b-41f9-855d-f3163f7af3bd",
   "metadata": {},
   "source": [
    "## Normalize by bringing mean close to zero and standard deviation to 1"
   ]
  },
  {
   "cell_type": "code",
   "execution_count": 38,
   "id": "80410e5c-f9a1-46cc-841b-99870021b186",
   "metadata": {},
   "outputs": [],
   "source": [
    "arrayWeights = g.ep[\"eWeight\"].get_array()\n",
    "mean         = np.mean(arrayWeights)\n",
    "std          = np.std(arrayWeights)\n",
    "eWeightZ     = g.ep[\"eWeight\"].copy(value_type=\"double\").t(lambda x: (x - mean) / std)\n",
    "#g.ep[\"eWeightZ\"] = eWeightZ"
   ]
  },
  {
   "cell_type": "markdown",
   "id": "3d00210c-40d5-4360-90e8-9bc15cdf61ac",
   "metadata": {},
   "source": [
    "## 0-1 Normalization"
   ]
  },
  {
   "cell_type": "code",
   "execution_count": 34,
   "id": "59e60557-e3c7-4718-adbe-30ee2ecac2af",
   "metadata": {},
   "outputs": [],
   "source": [
    "min_val = min(g.ep[\"eWeight\"].a)\n",
    "max_val = max(g.ep[\"eWeight\"].a)\n",
    "if max_val > min_val:\n",
    "    eWeightMaxMin   = g.new_ep(\"double\")\n",
    "    eWeightMaxMin.a = (g.ep[\"eWeight\"].a - min_val) / (max_val - min_val)\n",
    "else:\n",
    "    eWeightMaxMin   = g.ep[\"eWeight\"].copy(value_type=\"double\")\n",
    "\n",
    "#g.ep[\"eWeightMaxMin\"] = eWeightMaxMin"
   ]
  },
  {
   "cell_type": "markdown",
   "id": "f57505ad-a92e-48e2-8a80-72a2c937f8cb",
   "metadata": {},
   "source": [
    "## Saving and loading graph from file"
   ]
  },
  {
   "cell_type": "code",
   "execution_count": 32,
   "id": "d3313820-a0fe-4d93-914d-a49d3d15649c",
   "metadata": {},
   "outputs": [],
   "source": [
    "g.save(\"graph.gt\", fmt='gt')"
   ]
  },
  {
   "cell_type": "code",
   "execution_count": 3,
   "id": "288c85c6-43c7-4f46-add1-4b8054699c5b",
   "metadata": {},
   "outputs": [],
   "source": [
    "g = Graph(directed = False)\n",
    "g.load(\"graph.gt\")"
   ]
  },
  {
   "cell_type": "markdown",
   "id": "53c8e931-369b-4744-b3bf-b853b9bd4b63",
   "metadata": {},
   "source": [
    "## Print the list of properties stored inside the graph"
   ]
  },
  {
   "cell_type": "code",
   "execution_count": 4,
   "id": "f80bec5e-fd97-4de0-80d0-e42411de53ed",
   "metadata": {},
   "outputs": [
    {
     "name": "stdout",
     "output_type": "stream",
     "text": [
      "vBetweennessClassic     (vertex)  (type: double)\n",
      "vBetweennessInvNorm     (vertex)  (type: double)\n",
      "vBetweennessMNorm       (vertex)  (type: double)\n",
      "vClosenessClassic       (vertex)  (type: double)\n",
      "vClosenessInvNorm       (vertex)  (type: double)\n",
      "vClosenessMNorm         (vertex)  (type: double)\n",
      "vCount                  (vertex)  (type: int32_t)\n",
      "vName                   (vertex)  (type: string)\n",
      "vPagerankClassic        (vertex)  (type: double)\n",
      "vPagerankInvNorm        (vertex)  (type: double)\n",
      "vPagerankMNorm          (vertex)  (type: double)\n",
      "eWeight                 (edge)    (type: int32_t)\n",
      "eWeightInvNorm          (edge)    (type: double)\n",
      "eWeightMNorm            (edge)    (type: double)\n",
      "None\n"
     ]
    }
   ],
   "source": [
    "print(g.list_properties())"
   ]
  },
  {
   "cell_type": "markdown",
   "id": "b738c8cf-eb5d-4ffc-9460-2b378515bb01",
   "metadata": {},
   "source": [
    "## Draw graph and print number of vertices and edges"
   ]
  },
  {
   "cell_type": "code",
   "execution_count": null,
   "id": "9aa6ee06-6a44-4112-b487-f941f8e6d938",
   "metadata": {},
   "outputs": [],
   "source": [
    "graph_draw(g, output=\"graph.png\")\n",
    "\n",
    "print(\"The number of nodes is \" + str(g.num_vertices()))\n",
    "print(\"The number of edges is \" + str(g.num_edges()))"
   ]
  },
  {
   "cell_type": "markdown",
   "id": "11089e04-1514-4f43-b5ec-fb747a6b434f",
   "metadata": {},
   "source": [
    "## Compute node positions"
   ]
  },
  {
   "cell_type": "code",
   "execution_count": null,
   "id": "277552db-d70b-4330-98af-dff41d753f96",
   "metadata": {},
   "outputs": [],
   "source": [
    "#pos = sfdp_layout(g)\n",
    "pos = sfdp_layout(g, eweight=g.ep[\"eWeight\"])"
   ]
  },
  {
   "cell_type": "code",
   "execution_count": null,
   "id": "2851db5d-1fb3-4648-9489-c35966d318b7",
   "metadata": {},
   "outputs": [],
   "source": [
    "g.vp[\"pos\"] = pos"
   ]
  },
  {
   "cell_type": "code",
   "execution_count": null,
   "id": "6ecc72e1-61f5-4311-b1ea-e2c5989d2562",
   "metadata": {},
   "outputs": [],
   "source": [
    "graph_draw(g, pos=g.vp[\"pos\"], output=\"graph.png\")"
   ]
  },
  {
   "cell_type": "markdown",
   "id": "366f36f8-f4a9-453e-96d6-f00fc86f0892",
   "metadata": {},
   "source": [
    "## Betweenness"
   ]
  },
  {
   "cell_type": "code",
   "execution_count": 58,
   "id": "8bc567f1-7b97-44ce-bb93-e08881c7ccf6",
   "metadata": {},
   "outputs": [],
   "source": [
    "vBetweennessClassic, eBetweennessClassic = betweenness(\n",
    "    g, weight=g.ep[\"eWeight\"])"
   ]
  },
  {
   "cell_type": "code",
   "execution_count": null,
   "id": "81cb8be5-5518-4d3d-91fb-e8fc8004275a",
   "metadata": {},
   "outputs": [],
   "source": [
    "g.vp[\"vBetweennessClassic\"] = vBetweennessClassic"
   ]
  },
  {
   "cell_type": "code",
   "execution_count": 9,
   "id": "0d916ab8-5bc1-4a55-a6b0-ae28f4a086a7",
   "metadata": {},
   "outputs": [],
   "source": [
    "vBetweennessMNorm, eBetweennessMNorm = betweenness(\n",
    "    g, weight=g.ep[\"eWeightMNorm\"])"
   ]
  },
  {
   "cell_type": "code",
   "execution_count": 10,
   "id": "09ae75f4-21bc-4dd0-9df1-a1eef98c57c8",
   "metadata": {},
   "outputs": [],
   "source": [
    "g.vp[\"vBetweennessMNorm\"] = vBetweennessMNorm"
   ]
  },
  {
   "cell_type": "code",
   "execution_count": null,
   "id": "25ed9889-da31-496e-ba1b-cd4b0cde5816",
   "metadata": {},
   "outputs": [],
   "source": [
    "vBetweennessInvNorm, eBetweennessInvNorm = betweenness(\n",
    "    g, weight=g.ep[\"eWeightInvNorm\"])"
   ]
  },
  {
   "cell_type": "code",
   "execution_count": 90,
   "id": "4a37cef3-cd22-45f0-b059-6eaeea4e4c1d",
   "metadata": {},
   "outputs": [],
   "source": [
    "g.vp[\"vBetweennessInvNorm\"] = vBetweennessInvNorm"
   ]
  },
  {
   "cell_type": "code",
   "execution_count": null,
   "id": "64a4ad04-fd71-4a17-9bce-5ede9b7cc771",
   "metadata": {},
   "outputs": [],
   "source": [
    "#graph_draw(g, pos=g.vp[\"pos\"], vertex_fill_color=prop_to_size(vb, 0, 1, power=.1),\n",
    "#           vertex_size=prop_to_size(vb, 1, 12, power=.2), vorder=vb,\n",
    "#           output=\"betweenness.png\")"
   ]
  },
  {
   "cell_type": "markdown",
   "id": "04c4c41e-b9d5-45a2-b621-04e4bfb9e734",
   "metadata": {},
   "source": [
    "## PageRank metric"
   ]
  },
  {
   "cell_type": "code",
   "execution_count": 59,
   "id": "f7bfa5fd-a614-4e62-a6f6-9ae0abe39ee8",
   "metadata": {},
   "outputs": [],
   "source": [
    "vPagerankClassic = pagerank(g, weight = g.ep[\"eWeight\"])"
   ]
  },
  {
   "cell_type": "code",
   "execution_count": null,
   "id": "965b2a18-8589-4054-a677-8d7b19304046",
   "metadata": {},
   "outputs": [],
   "source": [
    "g.vp[\"vPagerankClassic\"] = vPagerankClassic"
   ]
  },
  {
   "cell_type": "code",
   "execution_count": 14,
   "id": "5689e63a-d438-4279-b15a-349c59ec7c08",
   "metadata": {},
   "outputs": [],
   "source": [
    "vPagerankMNorm = pagerank(g, weight=g.ep[\"eWeightMNorm\"])"
   ]
  },
  {
   "cell_type": "code",
   "execution_count": 15,
   "id": "3cbe0dc7-d52b-401e-a81a-ce894dc08aad",
   "metadata": {},
   "outputs": [],
   "source": [
    "g.vp[\"vPagerankMNorm\"] = vPagerankMNorm"
   ]
  },
  {
   "cell_type": "code",
   "execution_count": 18,
   "id": "398660a0-5e99-4dac-b2dc-57cbf9480439",
   "metadata": {},
   "outputs": [],
   "source": [
    "vPagerankInvNorm = pagerank(g, weight=g.ep[\"eWeightInvNorm\"])"
   ]
  },
  {
   "cell_type": "code",
   "execution_count": 19,
   "id": "7de41239-f138-4f55-9e96-25c09c8f1a47",
   "metadata": {},
   "outputs": [],
   "source": [
    "g.vp[\"vPagerankInvNorm\"] = vPagerankInvNorm"
   ]
  },
  {
   "cell_type": "code",
   "execution_count": null,
   "id": "f2c66f7b-6863-4640-9144-7a8fd1666db1",
   "metadata": {},
   "outputs": [],
   "source": [
    "#graph_draw(g, pos=g.vp[\"pos\"], vertex_fill_color=prop_to_size(pr, 0, 1, power=.1),\n",
    "#           vertex_size=prop_to_size(pr, 1, 12, power=.2), vorder=pr,\n",
    "#           output=\"pagerank.png\") # 7 minutes"
   ]
  },
  {
   "cell_type": "markdown",
   "id": "7852c9aa-f1a4-4bba-b84e-fe4988265b25",
   "metadata": {},
   "source": [
    "## Closeness"
   ]
  },
  {
   "cell_type": "code",
   "execution_count": 60,
   "id": "e267bf14-9e64-4d20-81b0-9b6de66419fa",
   "metadata": {},
   "outputs": [],
   "source": [
    "vClosenessClassic = closeness(g, weight=g.ep[\"eWeight\"]) # 12 minutes"
   ]
  },
  {
   "cell_type": "code",
   "execution_count": null,
   "id": "2bbf10b2-f245-4038-91a9-7c68b33a6608",
   "metadata": {},
   "outputs": [],
   "source": [
    "g.vp[\"vClosenessClassic\"] = vClosenessClassic"
   ]
  },
  {
   "cell_type": "code",
   "execution_count": 7,
   "id": "61d34c71-22ba-4a5f-957e-023df41344f8",
   "metadata": {},
   "outputs": [],
   "source": [
    "vClosenessMNorm = closeness(g, weight=g.ep[\"eWeightMNorm\"])"
   ]
  },
  {
   "cell_type": "code",
   "execution_count": 8,
   "id": "5d9cc473-cd9d-486b-92ec-f0bdf3ec9271",
   "metadata": {},
   "outputs": [],
   "source": [
    "g.vp[\"vClosenessMNorm\"] = vClosenessMNorm"
   ]
  },
  {
   "cell_type": "code",
   "execution_count": 87,
   "id": "fd6d1710-5b37-480b-a92f-b3871a15069f",
   "metadata": {},
   "outputs": [],
   "source": [
    "vClosenessInvNorm = closeness(g, weight=g.ep[\"eWeightInvNorm\"])"
   ]
  },
  {
   "cell_type": "code",
   "execution_count": 88,
   "id": "f57e92f3-29c1-488b-b3c3-91f1c10794d7",
   "metadata": {},
   "outputs": [],
   "source": [
    "g.vp[\"vClosenessInvNorm\"] = vClosenessInvNorm"
   ]
  },
  {
   "cell_type": "code",
   "execution_count": null,
   "id": "ea9c4327-fbed-4166-b540-6f5baa0092ad",
   "metadata": {},
   "outputs": [],
   "source": [
    "#graph_draw(g, pos=g.vp[\"pos\"], vertex_fill_color=prop_to_size(c, 0, 1, power=.1),\n",
    "#           vertex_size=prop_to_size(c, 1, 12, power=.2), vorder=c,\n",
    "#           output=\"closeness.png\")"
   ]
  },
  {
   "cell_type": "markdown",
   "id": "3ea6be25-98e3-441b-ba3e-554f7f008cbc",
   "metadata": {},
   "source": [
    "## Local clustering coefficients"
   ]
  },
  {
   "cell_type": "code",
   "execution_count": 29,
   "id": "c91bd090-c9d1-455d-825f-89a23f1559ea",
   "metadata": {},
   "outputs": [],
   "source": [
    "vLocClusteringClassic = local_clustering(g, weight=g.ep[\"eWeight\"])"
   ]
  },
  {
   "cell_type": "code",
   "execution_count": 30,
   "id": "af8ded28-e8da-40cf-b634-d04108e474e6",
   "metadata": {},
   "outputs": [],
   "source": [
    "g.vp[\"vLocClusteringClassic\"] = vLocClusteringClassic"
   ]
  },
  {
   "cell_type": "code",
   "execution_count": null,
   "id": "a6449059-2b6e-4186-a5aa-5b847a88de0a",
   "metadata": {},
   "outputs": [],
   "source": [
    "vLocClusteringMNorm = local_clustering(g, weight=g.ep[\"eWeightMNorm\"])"
   ]
  },
  {
   "cell_type": "code",
   "execution_count": null,
   "id": "66897dbc-c707-4694-8861-214cfae00d95",
   "metadata": {},
   "outputs": [],
   "source": [
    "g.vp[\"vLocClusteringMNorm\"] = vLocClusteringMNorm"
   ]
  },
  {
   "cell_type": "code",
   "execution_count": 25,
   "id": "128b99b4-4cb5-4716-a900-624c7667c4f3",
   "metadata": {},
   "outputs": [],
   "source": [
    "vLocClusteringInvNorm = local_clustering(g, weight=g.ep[\"eWeightInvNorm\"])"
   ]
  },
  {
   "cell_type": "code",
   "execution_count": 26,
   "id": "561e21a5-1ad8-42bf-ab16-1c53a0c9ed28",
   "metadata": {},
   "outputs": [],
   "source": [
    "g.vp[\"vLocClusteringInvNorm\"] = vLocClusteringInvNorm"
   ]
  },
  {
   "cell_type": "code",
   "execution_count": null,
   "id": "53bbe85c-12df-4e45-b25d-945a7b0a16ad",
   "metadata": {},
   "outputs": [],
   "source": [
    "#graph_draw(g, pos=g.vp[\"pos\"], vertex_fill_color=prop_to_size(vCl, 0, 1, power=.1),\n",
    "#           vertex_size=prop_to_size(vCl, 1, 12, power=.2), vorder=vCl,\n",
    "#           output=\"loc_clustering.png\")"
   ]
  },
  {
   "cell_type": "markdown",
   "id": "bf5804d5-f37e-4498-ac90-a0b7dfbe7b10",
   "metadata": {},
   "source": [
    "## Export betweenness and closeness to csv file"
   ]
  },
  {
   "cell_type": "code",
   "execution_count": null,
   "id": "c477110b-2100-4c27-b934-0903873c42ed",
   "metadata": {},
   "outputs": [],
   "source": [
    "betweenness = g.vp[\"vBetweennessClassic\"].get_array()\n",
    "closeness = g.vp[\"vClosenessClassic\"].get_array()"
   ]
  },
  {
   "cell_type": "code",
   "execution_count": null,
   "id": "985a9730-975b-4591-8006-b3ca62410604",
   "metadata": {},
   "outputs": [],
   "source": [
    "d = {'betweenness': betweenness, 'closeness': closeness}\n",
    "df = pd.DataFrame(data=d)\n",
    "MyMatrix = df.to_numpy()"
   ]
  },
  {
   "cell_type": "code",
   "execution_count": null,
   "id": "97b20b2e-6d5f-413b-a317-13ee5e91ee2f",
   "metadata": {},
   "outputs": [],
   "source": [
    "df.to_csv(\"out.csv\")"
   ]
  },
  {
   "cell_type": "markdown",
   "id": "b87e6e7a-b825-40d5-8fb5-c605f28a734b",
   "metadata": {},
   "source": [
    "## Print 20 of the cards with the highest score"
   ]
  },
  {
   "cell_type": "code",
   "execution_count": 33,
   "id": "af1a681a-bdb7-47f5-8d75-527565a7de2f",
   "metadata": {},
   "outputs": [
    {
     "name": "stdout",
     "output_type": "stream",
     "text": [
      "['Brightmare', 'Inspiring Unicorn', 'Daybreak Charger', 'Noble Quarry', 'Mesa Unicorn', 'Valorous Steed', 'Neighborhood Guardian', 'Ethereal Champion', 'Return to the Earth', 'Auriok Salvagers', 'Mountain Bandit', 'Lightfoot Rogue', 'Sphinx of the Chimes', 'Search the City', 'Crimson Kobolds', 'Crookshank Kobolds', 'Circu, Dimir Lobotomist', 'Manipulate Fate', 'Polluted Delta', 'Extract']\n"
     ]
    }
   ],
   "source": [
    "closeness_array = g.vp[\"vLocClusteringClassic\"].get_array()\n",
    "kth = -20\n",
    "ind = np.argpartition(closeness_array, kth)[kth:]\n",
    "print([g.vp[\"vName\"][index] for index in ind])"
   ]
  },
  {
   "cell_type": "markdown",
   "id": "a2026b40-5d2d-4e7b-9a85-f98c33a72193",
   "metadata": {},
   "source": [
    "## Embedding and Clustering"
   ]
  },
  {
   "cell_type": "code",
   "execution_count": 15,
   "id": "2fb33de4-0059-403b-ba43-cdfb09d9e4c0",
   "metadata": {},
   "outputs": [
    {
     "data": {
      "image/png": "[encoded data removed]",
      "text/plain": [
       "<Figure size 640x480 with 1 Axes>"
      ]
     },
     "metadata": {},
     "output_type": "display_data"
    }
   ],
   "source": [
    "closeness_array = g.vp[\"vClosenessMNorm\"].get_array()\n",
    "pagerank_array = g.vp[\"vPagerankMNorm\"].get_array()\n",
    "\n",
    "embedding_points = np.transpose(np.vstack((closeness_array, pagerank_array)))\n",
    "\n",
    "k = 6\n",
    "pred = KMeans(n_clusters=k).fit_predict(embedding_points)\n",
    "\n",
    "plt.scatter(embedding_points[:, 0], embedding_points[:, 1], c=pred)\n",
    "plt.show()"
   ]
  },
  {
   "cell_type": "code",
   "execution_count": 19,
   "id": "b22b3e11-34c2-4a35-b13d-a4973ca7e4d3",
   "metadata": {},
   "outputs": [
    {
     "name": "stdout",
     "output_type": "stream",
     "text": [
      "[ 4342   779    22 11393  1877   234]\n",
      "=====>Cluster 0, size 4342\n",
      "!\"Charming Prince\" or !\"Corpse Churn\" or !\"Dawntreader Elk\" or !\"Eternal Skylord\" or !\"Evangel of Heliod\" or !\"Fae Flight\" or !\"Feywild Visitor\" or !\"Heartstone\" or !\"Liliana's Contract\" or !\"Magus of the Moon\" or !\"Master of Ceremonies\" or !\"Mausoleum Wanderer\" or !\"Niambi, Esteemed Speaker\" or !\"Not of This World\" or !\"Omo, Queen of Vesuva\" or !\"Sadistic Shell Game\" or !\"Sivitri, Dragon Master\" or !\"Spirit Mantle\" or !\"Wildwood Scourge\" or !\"Winter, Cynical Opportunist\"\n",
      "=====>Cluster 1, size 779\n",
      "!\"Akroma's Memorial\" or !\"Aura Shards\" or !\"Beledros Witherbloom\" or !\"Disallow\" or !\"Fist of Suns\" or !\"Gloomlake Verge\" or !\"Minas Tirith\" or !\"Mirror Entity\" or !\"Moldervine Reclamation\" or !\"Mystic Sanctuary\" or !\"Obscura Storefront\" or !\"Pongify\" or !\"Pyroblast\" or !\"Reflections of Littjara\" or !\"Rune-Scarred Demon\" or !\"Seat of the Synod\" or !\"Shire Terrace\" or !\"Surge of Salvation\" or !\"Talisman of Unity\" or !\"Wear // Tear\"\n",
      "=====>Cluster 2, size 22\n",
      "!\"Arcane Signet\" or !\"Chromatic Lantern\" or !\"Chromatic Lantern\" or !\"Counterspell\" or !\"Evolving Wilds\" or !\"Evolving Wilds\" or !\"Fellwar Stone\" or !\"Fellwar Stone\" or !\"Fellwar Stone\" or !\"Lightning Greaves\" or !\"Path of Ancestry\" or !\"Rampant Growth\" or !\"Reliquary Tower\" or !\"Reliquary Tower\" or !\"Rogue's Passage\" or !\"Rogue's Passage\" or !\"Sol Ring\" or !\"Sol Ring\" or !\"Terramorphic Expanse\" or !\"Terramorphic Expanse\"\n",
      "=====>Cluster 3, size 11393\n",
      "!\"Armored Transport\" or !\"Armory of Iroas\" or !\"Automated Assembly Line\" or !\"Dakra Mystic\" or !\"Duskwatch Recruiter\" or !\"Furystoke Giant\" or !\"Gleam of Battle\" or !\"Hero of the Dunes\" or !\"Horn of Ramos\" or !\"Lethal Sting\" or !\"Plundering Pirate\" or !\"Prayer of Binding\" or !\"Ranger's Firebrand\" or !\"Reverse the Sands\" or !\"Servo Schematic\" or !\"Suncrusher\" or !\"Syr Faren, the Hengehammer\" or !\"Voltage Surge\" or !\"Wandering Stream\" or !\"Zealous Persecution\"\n",
      "=====>Cluster 4, size 1877\n",
      "!\"Consuming Aberration\" or !\"Dark Deal\" or !\"Eldrazi Monument\" or !\"Freed from the Real\" or !\"Go-Shintai of Hidden Cruelty\" or !\"Kozilek's Unsealing\" or !\"Lae'zel, Vlaakith's Champion\" or !\"Managorger Hydra\" or !\"Mocking Sprite\" or !\"Morophon, the Boundless\" or !\"Pridemalkin\" or !\"Prosperous Thief\" or !\"Rancor\" or !\"Resplendent Angel\" or !\"Sarkhan the Masterless\" or !\"Scale the Heights\" or !\"Starfield of Nyx\" or !\"Sylvan Tutor\" or !\"Thornbite Staff\" or !\"Xyris, the Writhing Storm\"\n",
      "=====>Cluster 5, size 234\n",
      "!\"Assassin's Trophy\" or !\"Doubling Season\" or !\"Eternal Witness\" or !\"Explore\" or !\"Faithless Looting\" or !\"Golgari Guildgate\" or !\"Hinterland Harbor\" or !\"Ornithopter of Paradise\" or !\"Rakdos Signet\" or !\"Rootbound Crag\" or !\"Sacred Foundry\" or !\"Sea of Clouds\" or !\"Selesnya Guildgate\" or !\"Simic Growth Chamber\" or !\"Sunken Hollow\" or !\"Terminate\" or !\"Urza's Saga\" or !\"Vampiric Tutor\" or !\"Victimize\" or !\"Windswept Heath\"\n"
     ]
    }
   ],
   "source": [
    "# get some random samples for each cluster\n",
    "_, clust_indexes, clust_sizes = np.unique(pred, return_index=True, return_counts=True)\n",
    "print(clust_sizes)\n",
    "\n",
    "for i in range(0, k):\n",
    "    print(f\"=====>Cluster {i}, size {clust_sizes[i]}\")\n",
    "\n",
    "    cluster_node_indices = np.where(pred == i)[0]\n",
    "    \n",
    "    cards_in_cluster = [g.vp[\"vName\"][random.choice(cluster_node_indices)] for _ in range(0, 20)]\n",
    "    cards_in_cluster.sort()\n",
    "\n",
    "    query = \"\"\n",
    "    for name in cards_in_cluster:\n",
    "        query += f\"!\\\"{name}\\\" or \"\n",
    "    print(query.removesuffix(\" or \"))"
   ]
  },
  {
   "cell_type": "markdown",
   "id": "31279516-7863-4d20-8488-334a9662daf5",
   "metadata": {},
   "source": [
    "## Diameter"
   ]
  },
  {
   "cell_type": "code",
   "execution_count": 21,
   "id": "3ff4f737-7eb8-46a3-986f-b8a45fa17e0c",
   "metadata": {},
   "outputs": [
    {
     "name": "stdout",
     "output_type": "stream",
     "text": [
      "20868.0 Skyclave Squid +2 Mace\n"
     ]
    }
   ],
   "source": [
    "source = 13848\n",
    "diam, (card1, card2) = pseudo_diameter(g, source=source, weights=g.ep[\"eWeightMNorm\"])\n",
    "print(diam, g.vp[\"vName\"][card1], g.vp[\"vName\"][card2])"
   ]
  }
 ],
 "metadata": {
  "kernelspec": {
   "display_name": "Python 3 (ipykernel)",
   "language": "python",
   "name": "python3"
  },
  "language_info": {
   "codemirror_mode": {
    "name": "ipython",
    "version": 3
   },
   "file_extension": ".py",
   "mimetype": "text/x-python",
   "name": "python",
   "nbconvert_exporter": "python",
   "pygments_lexer": "ipython3",
   "version": "3.12.8"
  }
 },
 "nbformat": 4,
 "nbformat_minor": 5
}
